{
 "cells": [
  {
   "cell_type": "markdown",
   "id": "36550a38",
   "metadata": {},
   "source": [
    "# Linear Regression"
   ]
  },
  {
   "cell_type": "markdown",
   "id": "329c3341",
   "metadata": {},
   "source": [
    "## Reading the data frame.\n",
    "The CSV file is \"bitcoin.csv\".  This data has been obtained from Kaggle and the following liner regression analysis has been performed on it. \n",
    "\n",
    "The data is imported into a pandas data frame and the first five lines are printed using the `head()` method. "
   ]
  },
  {
   "cell_type": "code",
   "execution_count": 2,
   "id": "4d15e759",
   "metadata": {},
   "outputs": [
    {
     "data": {
      "text/html": [
       "<div>\n",
       "<style scoped>\n",
       "    .dataframe tbody tr th:only-of-type {\n",
       "        vertical-align: middle;\n",
       "    }\n",
       "\n",
       "    .dataframe tbody tr th {\n",
       "        vertical-align: top;\n",
       "    }\n",
       "\n",
       "    .dataframe thead th {\n",
       "        text-align: right;\n",
       "    }\n",
       "</style>\n",
       "<table border=\"1\" class=\"dataframe\">\n",
       "  <thead>\n",
       "    <tr style=\"text-align: right;\">\n",
       "      <th></th>\n",
       "      <th>SNo</th>\n",
       "      <th>Name</th>\n",
       "      <th>Symbol</th>\n",
       "      <th>Date</th>\n",
       "      <th>High</th>\n",
       "      <th>Low</th>\n",
       "      <th>Open</th>\n",
       "      <th>Close</th>\n",
       "      <th>Volume</th>\n",
       "      <th>Marketcap</th>\n",
       "    </tr>\n",
       "  </thead>\n",
       "  <tbody>\n",
       "    <tr>\n",
       "      <th>0</th>\n",
       "      <td>1</td>\n",
       "      <td>Bitcoin</td>\n",
       "      <td>BTC</td>\n",
       "      <td>4/29/2013 23:59</td>\n",
       "      <td>147.488007</td>\n",
       "      <td>134.000000</td>\n",
       "      <td>134.444000</td>\n",
       "      <td>144.539993</td>\n",
       "      <td>0.0</td>\n",
       "      <td>1.603769e+09</td>\n",
       "    </tr>\n",
       "    <tr>\n",
       "      <th>1</th>\n",
       "      <td>2</td>\n",
       "      <td>Bitcoin</td>\n",
       "      <td>BTC</td>\n",
       "      <td>4/30/2013 23:59</td>\n",
       "      <td>146.929993</td>\n",
       "      <td>134.050003</td>\n",
       "      <td>144.000000</td>\n",
       "      <td>139.000000</td>\n",
       "      <td>0.0</td>\n",
       "      <td>1.542813e+09</td>\n",
       "    </tr>\n",
       "    <tr>\n",
       "      <th>2</th>\n",
       "      <td>3</td>\n",
       "      <td>Bitcoin</td>\n",
       "      <td>BTC</td>\n",
       "      <td>5/1/2013 23:59</td>\n",
       "      <td>139.889999</td>\n",
       "      <td>107.720001</td>\n",
       "      <td>139.000000</td>\n",
       "      <td>116.989998</td>\n",
       "      <td>0.0</td>\n",
       "      <td>1.298955e+09</td>\n",
       "    </tr>\n",
       "    <tr>\n",
       "      <th>3</th>\n",
       "      <td>4</td>\n",
       "      <td>Bitcoin</td>\n",
       "      <td>BTC</td>\n",
       "      <td>5/2/2013 23:59</td>\n",
       "      <td>125.599998</td>\n",
       "      <td>92.281898</td>\n",
       "      <td>116.379997</td>\n",
       "      <td>105.209999</td>\n",
       "      <td>0.0</td>\n",
       "      <td>1.168517e+09</td>\n",
       "    </tr>\n",
       "    <tr>\n",
       "      <th>4</th>\n",
       "      <td>5</td>\n",
       "      <td>Bitcoin</td>\n",
       "      <td>BTC</td>\n",
       "      <td>5/3/2013 23:59</td>\n",
       "      <td>108.127998</td>\n",
       "      <td>79.099998</td>\n",
       "      <td>106.250000</td>\n",
       "      <td>97.750000</td>\n",
       "      <td>0.0</td>\n",
       "      <td>1.085995e+09</td>\n",
       "    </tr>\n",
       "  </tbody>\n",
       "</table>\n",
       "</div>"
      ],
      "text/plain": [
       "   SNo     Name Symbol             Date        High         Low        Open  \\\n",
       "0    1  Bitcoin    BTC  4/29/2013 23:59  147.488007  134.000000  134.444000   \n",
       "1    2  Bitcoin    BTC  4/30/2013 23:59  146.929993  134.050003  144.000000   \n",
       "2    3  Bitcoin    BTC   5/1/2013 23:59  139.889999  107.720001  139.000000   \n",
       "3    4  Bitcoin    BTC   5/2/2013 23:59  125.599998   92.281898  116.379997   \n",
       "4    5  Bitcoin    BTC   5/3/2013 23:59  108.127998   79.099998  106.250000   \n",
       "\n",
       "        Close  Volume     Marketcap  \n",
       "0  144.539993     0.0  1.603769e+09  \n",
       "1  139.000000     0.0  1.542813e+09  \n",
       "2  116.989998     0.0  1.298955e+09  \n",
       "3  105.209999     0.0  1.168517e+09  \n",
       "4   97.750000     0.0  1.085995e+09  "
      ]
     },
     "execution_count": 2,
     "metadata": {},
     "output_type": "execute_result"
    }
   ],
   "source": [
    "#importing pandas and reading the data. \n",
    "\n",
    "import pandas as pd\n",
    "dataframe_btc = pd.read_csv('bitcoin.csv', sep=',')\n",
    "dataframe_btc.head()"
   ]
  },
  {
   "cell_type": "markdown",
   "id": "53a34e33",
   "metadata": {},
   "source": [
    "## Displaying Information\n",
    "\n",
    "`info()` method to collect more information about the data."
   ]
  },
  {
   "cell_type": "code",
   "execution_count": 3,
   "id": "c22697ab",
   "metadata": {},
   "outputs": [
    {
     "name": "stdout",
     "output_type": "stream",
     "text": [
      "<class 'pandas.core.frame.DataFrame'>\n",
      "RangeIndex: 2991 entries, 0 to 2990\n",
      "Data columns (total 10 columns):\n",
      " #   Column     Non-Null Count  Dtype  \n",
      "---  ------     --------------  -----  \n",
      " 0   SNo        2991 non-null   int64  \n",
      " 1   Name       2991 non-null   object \n",
      " 2   Symbol     2991 non-null   object \n",
      " 3   Date       2991 non-null   object \n",
      " 4   High       2991 non-null   float64\n",
      " 5   Low        2991 non-null   float64\n",
      " 6   Open       2991 non-null   float64\n",
      " 7   Close      2991 non-null   float64\n",
      " 8   Volume     2991 non-null   float64\n",
      " 9   Marketcap  2991 non-null   float64\n",
      "dtypes: float64(6), int64(1), object(3)\n",
      "memory usage: 233.8+ KB\n"
     ]
    }
   ],
   "source": [
    "#info()\n",
    "\n",
    "dataframe_btc.info()"
   ]
  },
  {
   "cell_type": "markdown",
   "id": "417ba953",
   "metadata": {},
   "source": [
    "## Creating training and test sets\n",
    "\n",
    "Using the train_test_split() function to split the data set into training(75%) and test(25%) sets. "
   ]
  },
  {
   "cell_type": "code",
   "execution_count": 4,
   "id": "8a8f779b",
   "metadata": {},
   "outputs": [
    {
     "name": "stdout",
     "output_type": "stream",
     "text": [
      "2243 748\n",
      "       SNo     Name Symbol              Date         High          Low  \\\n",
      "1408  1409  Bitcoin    BTC    3/7/2017 23:59  1275.550049  1204.800049   \n",
      "838    839  Bitcoin    BTC   8/15/2015 23:59   266.666992   261.295990   \n",
      "1993  1994  Bitcoin    BTC  10/13/2018 23:59  6308.510000  6259.810000   \n",
      "2242  2243  Bitcoin    BTC   6/19/2019 23:59  9299.621044  9070.395994   \n",
      "2526  2527  Bitcoin    BTC   3/29/2020 23:59  6250.467309  5920.086018   \n",
      "\n",
      "             Open        Close        Volume     Marketcap  \n",
      "1408  1273.209961  1223.540039  2.912560e+08  1.982477e+10  \n",
      "838    265.528992   261.550995  1.932110e+07  3.792758e+09  \n",
      "1993  6278.080000  6285.990000  3.064030e+09  1.088780e+11  \n",
      "2242  9078.727603  9273.521766  1.554681e+10  1.647810e+11  \n",
      "2526  6245.624627  5922.043123  2.837369e+10  1.083390e+11  \n",
      "       SNo     Name Symbol             Date         High          Low  \\\n",
      "641    642  Bitcoin    BTC  1/30/2015 23:59   242.850998   225.839004   \n",
      "1391  1392  Bitcoin    BTC  2/18/2017 23:59  1061.099976  1046.959961   \n",
      "1195  1196  Bitcoin    BTC   8/6/2016 23:59   588.395996   569.468994   \n",
      "1461  1462  Bitcoin    BTC  4/29/2017 23:59  1327.199951  1315.209961   \n",
      "2502  2503  Bitcoin    BTC   3/5/2020 23:59  9142.054296  8757.254034   \n",
      "\n",
      "             Open        Close        Volume     Marketcap  \n",
      "641    232.772003   226.425003  2.660520e+07  3.120272e+09  \n",
      "1391  1049.209961  1054.420044  9.907350e+07  1.705106e+10  \n",
      "1195   575.030029   587.778015  8.079730e+07  9.286055e+09  \n",
      "1461  1317.839966  1321.790039  4.227060e+08  2.154713e+10  \n",
      "2502  8760.285040  9078.762792  3.969805e+10  1.657320e+11  \n"
     ]
    }
   ],
   "source": [
    "from sklearn.model_selection import train_test_split\n",
    "\n",
    "#Splitting the data.\n",
    "train_set, test_set = train_test_split(dataframe_btc, test_size=0.25, random_state=123, shuffle=True)\n",
    "print(len(train_set), len(test_set))\n",
    "print(train_set.head())\n",
    "print(test_set.head())\n",
    "\n",
    "# Make a copy of the training set\n",
    "working_set = train_set.copy()"
   ]
  },
  {
   "cell_type": "markdown",
   "id": "7898273f",
   "metadata": {},
   "source": [
    "## Linear Regression\n",
    "\n",
    "Performing a linear regression between \"Open\" and the \"High\" price. "
   ]
  },
  {
   "cell_type": "markdown",
   "id": "a3e18116",
   "metadata": {},
   "source": [
    "I have chosen `Open` and `High` price of the cryptocurrency in order to see the relation between these two prices. "
   ]
  },
  {
   "cell_type": "code",
   "execution_count": 5,
   "id": "44f45da3",
   "metadata": {},
   "outputs": [
    {
     "name": "stdout",
     "output_type": "stream",
     "text": [
      "LinearRegression()\n",
      "value of R2\n",
      "0.9987710387231933\n",
      "The value of Mean Squared Error is:  164915.7227507638\n",
      "The root mean squared error is  406.0981688591612\n"
     ]
    }
   ],
   "source": [
    "from sklearn.linear_model import LinearRegression\n",
    "from sklearn.metrics import mean_squared_error, r2_score\n",
    "\n",
    "linearRegression = LinearRegression()\n",
    "X = working_set[[\"Open\"]]\n",
    "Y = working_set[\"High\"]\n",
    "print(linearRegression.fit(X, Y))\n",
    "\n",
    "#Value of R2\n",
    "print(\"value of R2\")\n",
    "print(linearRegression.score(X,Y))\n",
    "\n",
    "#Calculating the Mean Squared Error\n",
    "yPredicted = linearRegression.predict(X)\n",
    "meanSquaredError = mean_squared_error(Y, yPredicted)\n",
    "print(\"The value of Mean Squared Error is: \",  meanSquaredError)\n",
    "\n",
    "# rmse = sqrt(meanSquaredError)\n",
    "from math import sqrt\n",
    "rmse = sqrt(meanSquaredError)\n",
    "print(\"The root mean squared error is \", rmse)"
   ]
  },
  {
   "cell_type": "markdown",
   "id": "b16a6d32",
   "metadata": {},
   "source": [
    "The value of R2 is 0.998 which is very close to 1 and it shows that the fit is great. The R2 value ranges from 0-1 with a perfect model having a R2 value of 1."
   ]
  },
  {
   "cell_type": "markdown",
   "id": "b86a64b5",
   "metadata": {},
   "source": [
    "## Added features to X\n",
    "Picked 3 other features in conjunction with Open price and performed the linear regression analysis. "
   ]
  },
  {
   "cell_type": "code",
   "execution_count": 6,
   "id": "07c660df",
   "metadata": {},
   "outputs": [
    {
     "name": "stdout",
     "output_type": "stream",
     "text": [
      "LinearRegression()\n",
      "value of R2\n",
      "0.9993931326798887\n",
      "The value of Mean Squared Error is  81436.22146501929\n",
      "The root mean squared error is  285.37032337827156\n"
     ]
    }
   ],
   "source": [
    "from sklearn.linear_model import LinearRegression\n",
    "from sklearn.metrics import mean_squared_error, r2_score\n",
    "from math import sqrt\n",
    "\n",
    "linearRegression = LinearRegression()\n",
    "X = train_set[[\"Volume\",\"Open\",\"Marketcap\",\"Open\"]]\n",
    "Y = train_set[\"High\"]\n",
    "print(linearRegression.fit(X, Y))\n",
    "\n",
    "#value of R2\n",
    "print(\"value of R2\")\n",
    "print(linearRegression.score(X,Y))\n",
    "\n",
    "yPredicted = linearRegression.predict(X)\n",
    "meanSquaredError = mean_squared_error(Y, yPredicted)\n",
    "print(\"The value of Mean Squared Error is \",  meanSquaredError)\n",
    "\n",
    "# rmse = sqrt(meanSquaredError)\n",
    "from math import sqrt\n",
    "rmse = sqrt(meanSquaredError)\n",
    "print(\"The root mean squared error is \", rmse)"
   ]
  },
  {
   "cell_type": "markdown",
   "id": "ae3f4e0b",
   "metadata": {},
   "source": [
    "The addition of 3 extra parameters has changed the data slighlty. Here the R2 value is 0.99 which is very close to 1 and the error metrics are also comparatively lower, making this a model better than the previous one. "
   ]
  },
  {
   "cell_type": "markdown",
   "id": "aa04e885",
   "metadata": {},
   "source": [
    "## Final Evaluation of the test set\n",
    "\n",
    "Performing a final evaluation of the test set by including 3 extra parameters."
   ]
  },
  {
   "cell_type": "code",
   "execution_count": 8,
   "id": "71f20460",
   "metadata": {},
   "outputs": [
    {
     "name": "stdout",
     "output_type": "stream",
     "text": [
      "<class 'pandas.core.frame.DataFrame'>\n",
      "Int64Index: 748 entries, 641 to 50\n",
      "Data columns (total 10 columns):\n",
      " #   Column     Non-Null Count  Dtype  \n",
      "---  ------     --------------  -----  \n",
      " 0   SNo        748 non-null    int64  \n",
      " 1   Name       748 non-null    object \n",
      " 2   Symbol     748 non-null    object \n",
      " 3   Date       748 non-null    object \n",
      " 4   High       748 non-null    float64\n",
      " 5   Low        748 non-null    float64\n",
      " 6   Open       748 non-null    float64\n",
      " 7   Close      748 non-null    float64\n",
      " 8   Volume     748 non-null    float64\n",
      " 9   Marketcap  748 non-null    float64\n",
      "dtypes: float64(6), int64(1), object(3)\n",
      "memory usage: 64.3+ KB\n",
      "\n",
      "LinearRegression()\n",
      "0.9994568683960177\n",
      "Mean Squared Error:  75744.28108339632\n",
      "Root Mean Squared Error:  275.21678924694316\n",
      "\n",
      "LinearRegression()\n",
      "0.9992782369570844\n",
      "Mean Squared Error:  100655.94120718264\n",
      "Root Mean Squared Error:  317.2632049374504\n",
      "\n"
     ]
    },
    {
     "data": {
      "image/png": "[encoded data removed]",
      "text/plain": [
       "<Figure size 432x288 with 4 Axes>"
      ]
     },
     "metadata": {
      "needs_background": "light"
     },
     "output_type": "display_data"
    }
   ],
   "source": [
    "#Performing analysis on the testset\n",
    "#Displaying data. \n",
    "test_set.head();\n",
    "test_set.info()\n",
    "\n",
    "from sklearn.linear_model import LinearRegression\n",
    "from sklearn.metrics import mean_squared_error\n",
    "\n",
    "#Linear Regression\n",
    "print()\n",
    "linearRegression = LinearRegression()\n",
    "X = test_set[[\"Volume\",\"Open\",\"Marketcap\",\"Open\"]]\n",
    "Y = test_set[\"High\"]\n",
    "print(linearRegression.fit(X, Y))\n",
    "print(linearRegression.score(X,Y))\n",
    "\n",
    "#Mean Squared Error\n",
    "yPredicted = linearRegression.predict(X)\n",
    "meanSquaredError = mean_squared_error(Y, yPredicted)\n",
    "print(\"Mean Squared Error: \",  meanSquaredError)\n",
    "\n",
    "#Root Mean Squared Error. \n",
    "from math import sqrt\n",
    "rmse = sqrt(meanSquaredError)\n",
    "print(\"Root Mean Squared Error: \", rmse)\n",
    "print()\n",
    "\n",
    "\n",
    "#Unscaled features\n",
    "from sklearn.linear_model import LinearRegression\n",
    "from sklearn.metrics import mean_squared_error\n",
    "linearRegression = LinearRegression()\n",
    "X = test_set[[\"Open\"]]\n",
    "Y = test_set[\"High\"]\n",
    "print(linearRegression.fit(X, Y))\n",
    "\n",
    "print(linearRegression.score(X,Y))\n",
    "\n",
    "#MeanSquaredError\n",
    "yPredicted = linearRegression.predict(X)\n",
    "meanSquaredError = mean_squared_error(Y, yPredicted)\n",
    "print(\"Mean Squared Error: \",  meanSquaredError)\n",
    "\n",
    "#Root Mean Squared Error. \n",
    "from math import sqrt\n",
    "rmse = sqrt(meanSquaredError)\n",
    "print(\"Root Mean Squared Error: \", rmse)\n",
    "print()\n",
    "\n",
    "\n",
    "#Plotting the data in scatter Matrix. \n",
    "from pandas.plotting import scatter_matrix\n",
    "import matplotlib.pyplot as plt\n",
    "\n",
    "feature = ['Open','High']\n",
    "scatter_matrix(dataframe_btc[feature])\n",
    "plt.show()"
   ]
  },
  {
   "cell_type": "markdown",
   "id": "a1cebebe",
   "metadata": {},
   "source": [
    "It can be inferred from the above analysis that most of the metrics and calculations are better than what we achieved in the last Part. Here the mean squared and root mean squared data are better and shows that it is overall a better model."
   ]
  },
  {
   "cell_type": "markdown",
   "id": "9e823274",
   "metadata": {},
   "source": [
    "#### Comments and Discussion\n",
    "\n",
    "It must be a result of using extra parameters to overfit the model, but the model did very well with 3 parameters. The metrics got better as more parameters were added. The volume and market cap I think would be two of the important parameters to look at for further data analysis. "
   ]
  },
  {
   "cell_type": "code",
   "execution_count": null,
   "id": "c03177e1",
   "metadata": {},
   "outputs": [],
   "source": []
  }
 ],
 "metadata": {
  "kernelspec": {
   "display_name": "Python 3 (ipykernel)",
   "language": "python",
   "name": "python3"
  },
  "language_info": {
   "codemirror_mode": {
    "name": "ipython",
    "version": 3
   },
   "file_extension": ".py",
   "mimetype": "text/x-python",
   "name": "python",
   "nbconvert_exporter": "python",
   "pygments_lexer": "ipython3",
   "version": "3.9.7"
  }
 },
 "nbformat": 4,
 "nbformat_minor": 5
}
