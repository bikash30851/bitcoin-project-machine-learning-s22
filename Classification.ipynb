{
 "cells": [
  {
   "cell_type": "markdown",
   "id": "3a649cb2",
   "metadata": {},
   "source": [
    "# Classification"
   ]
  },
  {
   "cell_type": "markdown",
   "id": "37debf10",
   "metadata": {},
   "source": [
    "Reading the data into a pandas dataframe and displaying the keys and the head. "
   ]
  },
  {
   "cell_type": "code",
   "execution_count": 1,
   "id": "310d3980",
   "metadata": {},
   "outputs": [
    {
     "name": "stdout",
     "output_type": "stream",
     "text": [
      "Index(['SNo', 'Name', 'Symbol', 'Date', 'High', 'Low', 'Open', 'Close',\n",
      "       'Volume', 'Marketcap'],\n",
      "      dtype='object')\n",
      "\n"
     ]
    },
    {
     "data": {
      "text/html": [
       "<div>\n",
       "<style scoped>\n",
       "    .dataframe tbody tr th:only-of-type {\n",
       "        vertical-align: middle;\n",
       "    }\n",
       "\n",
       "    .dataframe tbody tr th {\n",
       "        vertical-align: top;\n",
       "    }\n",
       "\n",
       "    .dataframe thead th {\n",
       "        text-align: right;\n",
       "    }\n",
       "</style>\n",
       "<table border=\"1\" class=\"dataframe\">\n",
       "  <thead>\n",
       "    <tr style=\"text-align: right;\">\n",
       "      <th></th>\n",
       "      <th>SNo</th>\n",
       "      <th>Name</th>\n",
       "      <th>Symbol</th>\n",
       "      <th>Date</th>\n",
       "      <th>High</th>\n",
       "      <th>Low</th>\n",
       "      <th>Open</th>\n",
       "      <th>Close</th>\n",
       "      <th>Volume</th>\n",
       "      <th>Marketcap</th>\n",
       "    </tr>\n",
       "  </thead>\n",
       "  <tbody>\n",
       "    <tr>\n",
       "      <th>0</th>\n",
       "      <td>1</td>\n",
       "      <td>Bitcoin</td>\n",
       "      <td>BTC</td>\n",
       "      <td>4/29/2013 23:59</td>\n",
       "      <td>147.488007</td>\n",
       "      <td>134.000000</td>\n",
       "      <td>134.444000</td>\n",
       "      <td>144.539993</td>\n",
       "      <td>0.0</td>\n",
       "      <td>1.603769e+09</td>\n",
       "    </tr>\n",
       "    <tr>\n",
       "      <th>1</th>\n",
       "      <td>2</td>\n",
       "      <td>Bitcoin</td>\n",
       "      <td>BTC</td>\n",
       "      <td>4/30/2013 23:59</td>\n",
       "      <td>146.929993</td>\n",
       "      <td>134.050003</td>\n",
       "      <td>144.000000</td>\n",
       "      <td>139.000000</td>\n",
       "      <td>0.0</td>\n",
       "      <td>1.542813e+09</td>\n",
       "    </tr>\n",
       "    <tr>\n",
       "      <th>2</th>\n",
       "      <td>3</td>\n",
       "      <td>Bitcoin</td>\n",
       "      <td>BTC</td>\n",
       "      <td>5/1/2013 23:59</td>\n",
       "      <td>139.889999</td>\n",
       "      <td>107.720001</td>\n",
       "      <td>139.000000</td>\n",
       "      <td>116.989998</td>\n",
       "      <td>0.0</td>\n",
       "      <td>1.298955e+09</td>\n",
       "    </tr>\n",
       "    <tr>\n",
       "      <th>3</th>\n",
       "      <td>4</td>\n",
       "      <td>Bitcoin</td>\n",
       "      <td>BTC</td>\n",
       "      <td>5/2/2013 23:59</td>\n",
       "      <td>125.599998</td>\n",
       "      <td>92.281898</td>\n",
       "      <td>116.379997</td>\n",
       "      <td>105.209999</td>\n",
       "      <td>0.0</td>\n",
       "      <td>1.168517e+09</td>\n",
       "    </tr>\n",
       "    <tr>\n",
       "      <th>4</th>\n",
       "      <td>5</td>\n",
       "      <td>Bitcoin</td>\n",
       "      <td>BTC</td>\n",
       "      <td>5/3/2013 23:59</td>\n",
       "      <td>108.127998</td>\n",
       "      <td>79.099998</td>\n",
       "      <td>106.250000</td>\n",
       "      <td>97.750000</td>\n",
       "      <td>0.0</td>\n",
       "      <td>1.085995e+09</td>\n",
       "    </tr>\n",
       "  </tbody>\n",
       "</table>\n",
       "</div>"
      ],
      "text/plain": [
       "   SNo     Name Symbol             Date        High         Low        Open  \\\n",
       "0    1  Bitcoin    BTC  4/29/2013 23:59  147.488007  134.000000  134.444000   \n",
       "1    2  Bitcoin    BTC  4/30/2013 23:59  146.929993  134.050003  144.000000   \n",
       "2    3  Bitcoin    BTC   5/1/2013 23:59  139.889999  107.720001  139.000000   \n",
       "3    4  Bitcoin    BTC   5/2/2013 23:59  125.599998   92.281898  116.379997   \n",
       "4    5  Bitcoin    BTC   5/3/2013 23:59  108.127998   79.099998  106.250000   \n",
       "\n",
       "        Close  Volume     Marketcap  \n",
       "0  144.539993     0.0  1.603769e+09  \n",
       "1  139.000000     0.0  1.542813e+09  \n",
       "2  116.989998     0.0  1.298955e+09  \n",
       "3  105.209999     0.0  1.168517e+09  \n",
       "4   97.750000     0.0  1.085995e+09  "
      ]
     },
     "execution_count": 1,
     "metadata": {},
     "output_type": "execute_result"
    }
   ],
   "source": [
    "#importing the data into a pandas dataframe.\n",
    "\n",
    "import pandas as pd\n",
    "dataframe_btc = pd.read_csv('bitcoin.csv')\n",
    "\n",
    "#For the Keys\n",
    "print(dataframe_btc.keys())\n",
    "print()\n",
    "\n",
    "#First five lines of the data frame using head.\n",
    "dataframe_btc.head(5)"
   ]
  },
  {
   "cell_type": "code",
   "execution_count": 2,
   "id": "1de0c6ca",
   "metadata": {},
   "outputs": [
    {
     "data": {
      "text/html": [
       "<div>\n",
       "<style scoped>\n",
       "    .dataframe tbody tr th:only-of-type {\n",
       "        vertical-align: middle;\n",
       "    }\n",
       "\n",
       "    .dataframe tbody tr th {\n",
       "        vertical-align: top;\n",
       "    }\n",
       "\n",
       "    .dataframe thead th {\n",
       "        text-align: right;\n",
       "    }\n",
       "</style>\n",
       "<table border=\"1\" class=\"dataframe\">\n",
       "  <thead>\n",
       "    <tr style=\"text-align: right;\">\n",
       "      <th></th>\n",
       "      <th>SNo</th>\n",
       "      <th>High</th>\n",
       "      <th>Low</th>\n",
       "      <th>Open</th>\n",
       "      <th>Close</th>\n",
       "      <th>Volume</th>\n",
       "      <th>Marketcap</th>\n",
       "    </tr>\n",
       "  </thead>\n",
       "  <tbody>\n",
       "    <tr>\n",
       "      <th>count</th>\n",
       "      <td>2991.000000</td>\n",
       "      <td>2991.000000</td>\n",
       "      <td>2991.000000</td>\n",
       "      <td>2991.000000</td>\n",
       "      <td>2991.000000</td>\n",
       "      <td>2.991000e+03</td>\n",
       "      <td>2.991000e+03</td>\n",
       "    </tr>\n",
       "    <tr>\n",
       "      <th>mean</th>\n",
       "      <td>1496.000000</td>\n",
       "      <td>6893.326038</td>\n",
       "      <td>6486.009539</td>\n",
       "      <td>6700.146240</td>\n",
       "      <td>6711.290443</td>\n",
       "      <td>1.090633e+10</td>\n",
       "      <td>1.208761e+11</td>\n",
       "    </tr>\n",
       "    <tr>\n",
       "      <th>std</th>\n",
       "      <td>863.571653</td>\n",
       "      <td>11642.832456</td>\n",
       "      <td>10869.032130</td>\n",
       "      <td>11288.043736</td>\n",
       "      <td>11298.141921</td>\n",
       "      <td>1.888895e+10</td>\n",
       "      <td>2.109438e+11</td>\n",
       "    </tr>\n",
       "    <tr>\n",
       "      <th>min</th>\n",
       "      <td>1.000000</td>\n",
       "      <td>74.561096</td>\n",
       "      <td>65.526001</td>\n",
       "      <td>68.504997</td>\n",
       "      <td>68.431000</td>\n",
       "      <td>0.000000e+00</td>\n",
       "      <td>7.784112e+08</td>\n",
       "    </tr>\n",
       "    <tr>\n",
       "      <th>25%</th>\n",
       "      <td>748.500000</td>\n",
       "      <td>436.179001</td>\n",
       "      <td>422.879486</td>\n",
       "      <td>430.445496</td>\n",
       "      <td>430.569489</td>\n",
       "      <td>3.036725e+07</td>\n",
       "      <td>6.305579e+09</td>\n",
       "    </tr>\n",
       "    <tr>\n",
       "      <th>50%</th>\n",
       "      <td>1496.000000</td>\n",
       "      <td>2387.610107</td>\n",
       "      <td>2178.500000</td>\n",
       "      <td>2269.889893</td>\n",
       "      <td>2286.409912</td>\n",
       "      <td>9.460360e+08</td>\n",
       "      <td>3.741503e+10</td>\n",
       "    </tr>\n",
       "    <tr>\n",
       "      <th>75%</th>\n",
       "      <td>2243.500000</td>\n",
       "      <td>8733.926948</td>\n",
       "      <td>8289.800460</td>\n",
       "      <td>8569.656493</td>\n",
       "      <td>8576.238715</td>\n",
       "      <td>1.592015e+10</td>\n",
       "      <td>1.499960e+11</td>\n",
       "    </tr>\n",
       "    <tr>\n",
       "      <th>max</th>\n",
       "      <td>2991.000000</td>\n",
       "      <td>64863.098910</td>\n",
       "      <td>62208.964370</td>\n",
       "      <td>63523.754870</td>\n",
       "      <td>63503.457930</td>\n",
       "      <td>3.509680e+11</td>\n",
       "      <td>1.186360e+12</td>\n",
       "    </tr>\n",
       "  </tbody>\n",
       "</table>\n",
       "</div>"
      ],
      "text/plain": [
       "               SNo          High           Low          Open         Close  \\\n",
       "count  2991.000000   2991.000000   2991.000000   2991.000000   2991.000000   \n",
       "mean   1496.000000   6893.326038   6486.009539   6700.146240   6711.290443   \n",
       "std     863.571653  11642.832456  10869.032130  11288.043736  11298.141921   \n",
       "min       1.000000     74.561096     65.526001     68.504997     68.431000   \n",
       "25%     748.500000    436.179001    422.879486    430.445496    430.569489   \n",
       "50%    1496.000000   2387.610107   2178.500000   2269.889893   2286.409912   \n",
       "75%    2243.500000   8733.926948   8289.800460   8569.656493   8576.238715   \n",
       "max    2991.000000  64863.098910  62208.964370  63523.754870  63503.457930   \n",
       "\n",
       "             Volume     Marketcap  \n",
       "count  2.991000e+03  2.991000e+03  \n",
       "mean   1.090633e+10  1.208761e+11  \n",
       "std    1.888895e+10  2.109438e+11  \n",
       "min    0.000000e+00  7.784112e+08  \n",
       "25%    3.036725e+07  6.305579e+09  \n",
       "50%    9.460360e+08  3.741503e+10  \n",
       "75%    1.592015e+10  1.499960e+11  \n",
       "max    3.509680e+11  1.186360e+12  "
      ]
     },
     "execution_count": 2,
     "metadata": {},
     "output_type": "execute_result"
    }
   ],
   "source": [
    "#describe\n",
    "dataframe_btc.describe()\n"
   ]
  },
  {
   "cell_type": "code",
   "execution_count": 3,
   "id": "a3376820",
   "metadata": {},
   "outputs": [
    {
     "name": "stdout",
     "output_type": "stream",
     "text": [
      "<class 'pandas.core.frame.DataFrame'>\n",
      "RangeIndex: 2991 entries, 0 to 2990\n",
      "Data columns (total 10 columns):\n",
      " #   Column     Non-Null Count  Dtype  \n",
      "---  ------     --------------  -----  \n",
      " 0   SNo        2991 non-null   int64  \n",
      " 1   Name       2991 non-null   object \n",
      " 2   Symbol     2991 non-null   object \n",
      " 3   Date       2991 non-null   object \n",
      " 4   High       2991 non-null   float64\n",
      " 5   Low        2991 non-null   float64\n",
      " 6   Open       2991 non-null   float64\n",
      " 7   Close      2991 non-null   float64\n",
      " 8   Volume     2991 non-null   float64\n",
      " 9   Marketcap  2991 non-null   float64\n",
      "dtypes: float64(6), int64(1), object(3)\n",
      "memory usage: 233.8+ KB\n"
     ]
    }
   ],
   "source": [
    "#info \n",
    "dataframe_btc.info()"
   ]
  },
  {
   "cell_type": "markdown",
   "id": "cf58401b",
   "metadata": {},
   "source": [
    "# Choosing X and Y\n",
    "I have chosen the open and high price of the cryptocurrency in order to perform my analysis. The high price is the target feature because I want my model to be able to predict the highest price the cryptocurrency will attain based on the opening price. Also, there is a positive correlation between these two feature and it will be good to do the anlysis and perform fitting. "
   ]
  },
  {
   "cell_type": "markdown",
   "id": "ed45ff25",
   "metadata": {},
   "source": [
    "Defining a grader function to classify the high values into different grades. "
   ]
  },
  {
   "cell_type": "code",
   "execution_count": 4,
   "id": "c4631bdd",
   "metadata": {},
   "outputs": [],
   "source": [
    "def grader(x):\n",
    "    x = int(x)\n",
    "    if(x<=5000):\n",
    "        return 'A'\n",
    "    elif(x>=5000 and x<10000):\n",
    "        return 'B'\n",
    "    elif(x>=10000 and x<15000):\n",
    "        return 'C'\n",
    "    elif(x>=15000 and x<20000):\n",
    "        return 'D'\n",
    "    elif(x>=20000 and x<25000):\n",
    "        return 'E'\n",
    "    elif(x>=25000 and x<30000):\n",
    "        return 'F'\n",
    "    elif(x>=30000 and x<35000):\n",
    "        return 'G'\n",
    "    elif(x>=35000 and x<40000):\n",
    "        return 'H'\n",
    "    elif(x>=40000 and x<45000):\n",
    "        return 'I'\n",
    "    elif(x>=45000 and x<50000):\n",
    "        return 'J'\n",
    "    elif(x>=50000 and x<55000):\n",
    "        return 'K'\n",
    "    elif(x>=55000 and x<60000):\n",
    "        return 'L'\n",
    "    elif(x>=60000 and x<65000):\n",
    "        return 'M'\n",
    "    else:\n",
    "        return 'N'"
   ]
  },
  {
   "cell_type": "code",
   "execution_count": 5,
   "id": "b27dfadc",
   "metadata": {},
   "outputs": [
    {
     "data": {
      "text/plain": [
       "0       A\n",
       "1       A\n",
       "2       A\n",
       "3       A\n",
       "4       A\n",
       "       ..\n",
       "2986    G\n",
       "2987    G\n",
       "2988    H\n",
       "2989    H\n",
       "2990    H\n",
       "Name: High Grade, Length: 2991, dtype: object"
      ]
     },
     "execution_count": 5,
     "metadata": {},
     "output_type": "execute_result"
    }
   ],
   "source": [
    "dataframe_btc['High Grade']=dataframe_btc['High'].apply(grader)\n",
    "dataframe_btc['High Grade']"
   ]
  },
  {
   "cell_type": "markdown",
   "id": "5ee5d34d",
   "metadata": {},
   "source": [
    "## Splitting the data frame into test and training set.\n",
    "\n",
    "Used the train_test_split() function to split the data set into training(75%) and test(25%) sets. "
   ]
  },
  {
   "cell_type": "code",
   "execution_count": 9,
   "id": "7e4a88c5",
   "metadata": {},
   "outputs": [
    {
     "name": "stdout",
     "output_type": "stream",
     "text": [
      "2243 748\n",
      "       SNo     Name Symbol              Date         High          Low  \\\n",
      "1408  1409  Bitcoin    BTC    3/7/2017 23:59  1275.550049  1204.800049   \n",
      "838    839  Bitcoin    BTC   8/15/2015 23:59   266.666992   261.295990   \n",
      "1993  1994  Bitcoin    BTC  10/13/2018 23:59  6308.510000  6259.810000   \n",
      "2242  2243  Bitcoin    BTC   6/19/2019 23:59  9299.621044  9070.395994   \n",
      "2526  2527  Bitcoin    BTC   3/29/2020 23:59  6250.467309  5920.086018   \n",
      "\n",
      "             Open        Close        Volume     Marketcap High Grade  \n",
      "1408  1273.209961  1223.540039  2.912560e+08  1.982477e+10          A  \n",
      "838    265.528992   261.550995  1.932110e+07  3.792758e+09          A  \n",
      "1993  6278.080000  6285.990000  3.064030e+09  1.088780e+11          B  \n",
      "2242  9078.727603  9273.521766  1.554681e+10  1.647810e+11          B  \n",
      "2526  6245.624627  5922.043123  2.837369e+10  1.083390e+11          B  \n",
      "       SNo     Name Symbol             Date         High          Low  \\\n",
      "641    642  Bitcoin    BTC  1/30/2015 23:59   242.850998   225.839004   \n",
      "1391  1392  Bitcoin    BTC  2/18/2017 23:59  1061.099976  1046.959961   \n",
      "1195  1196  Bitcoin    BTC   8/6/2016 23:59   588.395996   569.468994   \n",
      "1461  1462  Bitcoin    BTC  4/29/2017 23:59  1327.199951  1315.209961   \n",
      "2502  2503  Bitcoin    BTC   3/5/2020 23:59  9142.054296  8757.254034   \n",
      "\n",
      "             Open        Close        Volume     Marketcap High Grade  \n",
      "641    232.772003   226.425003  2.660520e+07  3.120272e+09          A  \n",
      "1391  1049.209961  1054.420044  9.907350e+07  1.705106e+10          A  \n",
      "1195   575.030029   587.778015  8.079730e+07  9.286055e+09          A  \n",
      "1461  1317.839966  1321.790039  4.227060e+08  2.154713e+10          A  \n",
      "2502  8760.285040  9078.762792  3.969805e+10  1.657320e+11          B  \n"
     ]
    }
   ],
   "source": [
    "from sklearn.model_selection import train_test_split\n",
    "\n",
    "train_set, test_set = train_test_split(dataframe_btc, test_size=0.25, random_state=123, shuffle=True)\n",
    "print(len(train_set), len(test_set))\n",
    "print(train_set.head())\n",
    "print(test_set.head())\n",
    "\n",
    "# Make a copy of the training set\n",
    "working_set = train_set.copy()"
   ]
  },
  {
   "cell_type": "markdown",
   "id": "b682b487",
   "metadata": {},
   "source": [
    "# Building the decision tree\n",
    "\n",
    "Building a decision tree using the features and the target feature obtained from the grader function. "
   ]
  },
  {
   "cell_type": "code",
   "execution_count": 10,
   "id": "209f983d",
   "metadata": {},
   "outputs": [
    {
     "data": {
      "text/plain": [
       "DecisionTreeClassifier()"
      ]
     },
     "execution_count": 10,
     "metadata": {},
     "output_type": "execute_result"
    }
   ],
   "source": [
    "## Your code\n",
    "from sklearn.tree import DecisionTreeClassifier\n",
    "\n",
    "X = train_set[[\"Open\",\"Low\",\"Close\",\"Volume\"]]\n",
    "Y = train_set['High Grade']\n",
    "\n",
    "tree_classifier = DecisionTreeClassifier()\n",
    "tree_classifier.fit(X,Y)"
   ]
  },
  {
   "cell_type": "markdown",
   "id": "19274f67",
   "metadata": {},
   "source": [
    "# Confusion Matrix\n",
    "\n",
    "Computing and printing the confusion matrix."
   ]
  },
  {
   "cell_type": "code",
   "execution_count": 11,
   "id": "1466bd88",
   "metadata": {},
   "outputs": [
    {
     "name": "stdout",
     "output_type": "stream",
     "text": [
      "[[1308    0    0    0    0    0    0    0    0    0    0    0    0]\n",
      " [   0  548    0    0    0    0    0    0    0    0    0    0    0]\n",
      " [   0    0  188    0    0    0    0    0    0    0    0    0    0]\n",
      " [   0    0    0   50    0    0    0    0    0    0    0    0    0]\n",
      " [   0    0    0    0    7    0    0    0    0    0    0    0    0]\n",
      " [   0    0    0    0    0    5    0    0    0    0    0    0    0]\n",
      " [   0    0    0    0    0    0   16    0    0    0    0    0    0]\n",
      " [   0    0    0    0    0    0    0   35    0    0    0    0    0]\n",
      " [   0    0    0    0    0    0    0    0    9    0    0    0    0]\n",
      " [   0    0    0    0    0    0    0    0    0   14    0    0    0]\n",
      " [   0    0    0    0    0    0    0    0    0    0   16    0    0]\n",
      " [   0    0    0    0    0    0    0    0    0    0    0   35    0]\n",
      " [   0    0    0    0    0    0    0    0    0    0    0    0   12]]\n"
     ]
    }
   ],
   "source": [
    "from sklearn.metrics import confusion_matrix\n",
    "\n",
    "y_pred = tree_classifier.predict(X)\n",
    "matrix = confusion_matrix(Y, y_pred)\n",
    "print(matrix)"
   ]
  },
  {
   "cell_type": "markdown",
   "id": "ab1486de",
   "metadata": {},
   "source": [
    "# Evaluating (Other metrics)\n",
    "Computing Accuracy, Precision, Sensitivity and F1 scores from the training data\n"
   ]
  },
  {
   "cell_type": "code",
   "execution_count": 12,
   "id": "85b19dbd",
   "metadata": {},
   "outputs": [
    {
     "name": "stdout",
     "output_type": "stream",
     "text": [
      "Accuracy:  1.0\n",
      "Precision:  1.0\n",
      "Sensitivity:  1.0\n",
      "F1 Score:  1.0\n"
     ]
    }
   ],
   "source": [
    "# Evaluating Other Metrics\n",
    "from sklearn.metrics import accuracy_score, precision_score, recall_score, f1_score\n",
    "\n",
    "print(\"Accuracy: \", accuracy_score(Y, y_pred))\n",
    "print(\"Precision: \", precision_score(Y, y_pred, average=\"weighted\"))\n",
    "print(\"Sensitivity: \", recall_score(Y, y_pred, average=\"weighted\"))\n",
    "print(\"F1 Score: \", f1_score(Y, y_pred, average=\"weighted\"))"
   ]
  },
  {
   "cell_type": "markdown",
   "id": "5a93f3af",
   "metadata": {},
   "source": [
    "All the metrics are on the high side and show a good fit. It could be a possible overfit which is common for decision trees."
   ]
  },
  {
   "cell_type": "markdown",
   "id": "9acec57e",
   "metadata": {},
   "source": [
    "# Evaluating On the Test Set"
   ]
  },
  {
   "cell_type": "code",
   "execution_count": 14,
   "id": "1a870146",
   "metadata": {},
   "outputs": [
    {
     "name": "stdout",
     "output_type": "stream",
     "text": [
      "[[453   0   0   0   0   0   0   0   0   0   0   0   0]\n",
      " [  0 150   1   0   0   0   0   0   0   0   0   0   0]\n",
      " [  0   1  66   2   0   0   0   0   0   0   0   0   0]\n",
      " [  0   0   0  20   0   0   0   0   0   0   0   0   0]\n",
      " [  0   0   0   0   4   0   0   0   0   0   0   0   0]\n",
      " [  0   0   0   0   0   2   0   0   0   0   0   0   0]\n",
      " [  0   0   0   0   0   1   4   0   0   0   0   0   0]\n",
      " [  0   0   0   0   0   0   1  16   0   0   0   0   0]\n",
      " [  0   0   0   0   0   0   0   1   3   0   0   0   0]\n",
      " [  0   0   0   0   0   0   0   0   0   1   2   0   0]\n",
      " [  0   0   0   0   0   0   0   0   0   0   4   0   0]\n",
      " [  0   0   0   0   0   0   0   0   0   0   2  10   0]\n",
      " [  0   0   0   0   0   0   0   0   0   0   0   2   2]]\n",
      "Accuracy:  0.982620320855615\n",
      "Precision:  0.985942915466421\n",
      "Sensitivity:  0.982620320855615\n",
      "F1 Score:  0.9824600428406657\n"
     ]
    }
   ],
   "source": [
    "X = test_set[[\"Open\",\"Low\",\"Close\",\"Volume\"]]\n",
    "Y = test_set['High Grade']\n",
    "\n",
    "y_pred = tree_classifier.predict(X)\n",
    "matrix = confusion_matrix(Y, y_pred)\n",
    "print(matrix)\n",
    "\n",
    "from sklearn.metrics import accuracy_score, precision_score, recall_score, f1_score\n",
    "\n",
    "print(\"Accuracy: \", accuracy_score(Y, y_pred))\n",
    "print(\"Precision: \", precision_score(Y, y_pred, average=\"weighted\"))\n",
    "print(\"Sensitivity: \", recall_score(Y, y_pred, average=\"weighted\"))\n",
    "print(\"F1 Score: \", f1_score(Y, y_pred, average=\"weighted\"))"
   ]
  },
  {
   "cell_type": "markdown",
   "id": "630433ed",
   "metadata": {},
   "source": [
    "Here, on the test set the metrics are looking high and very good. "
   ]
  },
  {
   "cell_type": "markdown",
   "id": "d73ac696",
   "metadata": {},
   "source": [
    "# Using SVM"
   ]
  },
  {
   "cell_type": "code",
   "execution_count": 15,
   "id": "9cc02ad9",
   "metadata": {},
   "outputs": [
    {
     "data": {
      "text/plain": [
       "SVC()"
      ]
     },
     "execution_count": 15,
     "metadata": {},
     "output_type": "execute_result"
    }
   ],
   "source": [
    "from sklearn.svm import SVC\n",
    "X = train_set[[\"Open\",\"Low\",\"Close\",\"Volume\"]]\n",
    "y = train_set['High Grade']\n",
    "svm_classifier = SVC()\n",
    "svm_classifier.fit(X,y)"
   ]
  },
  {
   "cell_type": "code",
   "execution_count": 17,
   "id": "e62419da",
   "metadata": {},
   "outputs": [
    {
     "data": {
      "text/plain": [
       "0.7721801159161836"
      ]
     },
     "execution_count": 17,
     "metadata": {},
     "output_type": "execute_result"
    }
   ],
   "source": [
    "svm_classifier.score(X,y)"
   ]
  },
  {
   "cell_type": "markdown",
   "id": "29d87fdc",
   "metadata": {},
   "source": [
    "# Performing a final evaluation with a test set."
   ]
  },
  {
   "cell_type": "code",
   "execution_count": 18,
   "id": "dee7668f",
   "metadata": {},
   "outputs": [],
   "source": [
    "from sklearn.svm import SVC\n",
    "X = test_set[[\"Open\",\"Low\",\"Close\",\"Volume\"]]\n",
    "y = test_set['High Grade']\n",
    "\n"
   ]
  },
  {
   "cell_type": "code",
   "execution_count": 20,
   "id": "d149cf54",
   "metadata": {},
   "outputs": [
    {
     "name": "stdout",
     "output_type": "stream",
     "text": [
      "Confusion Matrix\n",
      "[[422  31   0   0   0   0   0   0   0   0   0   0   0]\n",
      " [  8 142   0   0   0   0   0   0   0   0   0   1   0]\n",
      " [  0  67   0   0   0   0   0   0   0   0   0   2   0]\n",
      " [  0  20   0   0   0   0   0   0   0   0   0   0   0]\n",
      " [  0   4   0   0   0   0   0   0   0   0   0   0   0]\n",
      " [  0   1   0   0   0   0   0   0   0   0   0   1   0]\n",
      " [  0   2   0   0   0   0   0   0   0   0   0   3   0]\n",
      " [  0  12   0   0   0   0   0   1   0   0   0   4   0]\n",
      " [  0   2   0   0   0   0   0   1   0   0   0   1   0]\n",
      " [  0   1   0   0   0   0   0   1   0   0   0   1   0]\n",
      " [  0   2   0   0   0   0   0   0   0   1   0   1   0]\n",
      " [  0   4   0   0   0   0   0   0   0   1   0   7   0]\n",
      " [  0   1   0   0   0   0   0   0   0   0   0   3   0]]\n",
      "Accuracy is  0.7647058823529411\n",
      "Sensitivity is  0.7647058823529411\n",
      "Precision is  0.7057921541660694\n",
      "F1 is  0.7176769726075992\n"
     ]
    },
    {
     "name": "stderr",
     "output_type": "stream",
     "text": [
      "C:\\Users\\S525662\\Anaconda3\\lib\\site-packages\\sklearn\\metrics\\_classification.py:1248: UndefinedMetricWarning: Precision is ill-defined and being set to 0.0 in labels with no predicted samples. Use `zero_division` parameter to control this behavior.\n",
      "  _warn_prf(average, modifier, msg_start, len(result))\n"
     ]
    }
   ],
   "source": [
    "from sklearn.metrics import classification_report,accuracy_score\n",
    "from sklearn.svm import SVC\n",
    "\n",
    "y_pred = svm_classifier.predict(X)\n",
    "matrix = confusion_matrix(y, y_pred)\n",
    "\n",
    "\n",
    "print(\"Confusion Matrix\")\n",
    "print(matrix)\n",
    "print (\"Accuracy is \", accuracy_score(y, y_pred))\n",
    "print (\"Sensitivity is \", recall_score(y, y_pred, average=\"weighted\"))\n",
    "print (\"Precision is \", precision_score(y, y_pred, average=\"weighted\"))\n",
    "print (\"F1 is \", f1_score(y, y_pred, average=\"weighted\"))"
   ]
  },
  {
   "cell_type": "markdown",
   "id": "91273701",
   "metadata": {},
   "source": [
    "It can be summed up from the data that decision tree prediction is the best among others. The SVM metrics seem to be on the lower side. "
   ]
  },
  {
   "cell_type": "code",
   "execution_count": null,
   "id": "d9fa73d1",
   "metadata": {},
   "outputs": [],
   "source": []
  }
 ],
 "metadata": {
  "kernelspec": {
   "display_name": "Python 3 (ipykernel)",
   "language": "python",
   "name": "python3"
  },
  "language_info": {
   "codemirror_mode": {
    "name": "ipython",
    "version": 3
   },
   "file_extension": ".py",
   "mimetype": "text/x-python",
   "name": "python",
   "nbconvert_exporter": "python",
   "pygments_lexer": "ipython3",
   "version": "3.9.7"
  }
 },
 "nbformat": 4,
 "nbformat_minor": 5
}
